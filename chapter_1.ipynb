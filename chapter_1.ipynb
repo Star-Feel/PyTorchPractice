{
 "cells": [
  {
   "cell_type": "markdown",
   "id": "021f40f2",
   "metadata": {},
   "source": [
    "# Chapter 1 实践基础"
   ]
  },
  {
   "cell_type": "markdown",
   "id": "29895cf5",
   "metadata": {},
   "source": [
    "## 1.1 导入 package"
   ]
  },
  {
   "cell_type": "code",
   "execution_count": 30,
   "id": "a0bee85e",
   "metadata": {},
   "outputs": [],
   "source": [
    "import torch\n",
    "import numpy as np"
   ]
  },
  {
   "cell_type": "markdown",
   "id": "ede29831",
   "metadata": {},
   "source": [
    "## 1.2 张量"
   ]
  },
  {
   "cell_type": "code",
   "execution_count": 31,
   "id": "b11cb2ce",
   "metadata": {},
   "outputs": [
    {
     "data": {
      "text/plain": [
       "tensor([2., 3., 4.])"
      ]
     },
     "execution_count": 31,
     "metadata": {},
     "output_type": "execute_result"
    }
   ],
   "source": [
    "array = [2.0, 3.0, 4.0]\n",
    "array2torch = torch.tensor(array)\n",
    "array2torch"
   ]
  },
  {
   "cell_type": "code",
   "execution_count": 32,
   "id": "e7b6bd1a",
   "metadata": {},
   "outputs": [
    {
     "data": {
      "text/plain": [
       "tensor([[2., 3., 4.],\n",
       "        [5., 6., 7.]])"
      ]
     },
     "execution_count": 32,
     "metadata": {},
     "output_type": "execute_result"
    }
   ],
   "source": [
    "matrix = [[2.0, 3.0, 4.0], [5.0, 6.0, 7.0]]\n",
    "matrix2torch = torch.tensor(matrix)\n",
    "matrix2torch"
   ]
  },
  {
   "cell_type": "code",
   "execution_count": 33,
   "id": "18c94f3d",
   "metadata": {},
   "outputs": [
    {
     "data": {
      "text/plain": [
       "(torch.Size([3]), torch.Size([2, 3]), 1, 2)"
      ]
     },
     "execution_count": 33,
     "metadata": {},
     "output_type": "execute_result"
    }
   ],
   "source": [
    "array2torch.shape, matrix2torch.shape, array2torch.ndim, matrix2torch.ndim"
   ]
  },
  {
   "cell_type": "code",
   "execution_count": 34,
   "id": "66354d1d",
   "metadata": {},
   "outputs": [
    {
     "data": {
      "text/plain": [
       "torch.Size([3])"
      ]
     },
     "execution_count": 34,
     "metadata": {},
     "output_type": "execute_result"
    }
   ],
   "source": [
    "array2torch.size()"
   ]
  },
  {
   "cell_type": "code",
   "execution_count": 35,
   "id": "6c3d1b1a",
   "metadata": {},
   "outputs": [
    {
     "data": {
      "text/plain": [
       "(tensor([[0., 0., 0.],\n",
       "         [0., 0., 0.],\n",
       "         [0., 0., 0.],\n",
       "         [0., 0., 0.]]),\n",
       " tensor([[0., 0., 0.],\n",
       "         [0., 0., 0.]]),\n",
       " tensor([[1., 1., 1.],\n",
       "         [1., 1., 1.],\n",
       "         [1., 1., 1.],\n",
       "         [1., 1., 1.]]),\n",
       " tensor([[10., 10., 10.],\n",
       "         [10., 10., 10.],\n",
       "         [10., 10., 10.],\n",
       "         [10., 10., 10.]]))"
      ]
     },
     "execution_count": 35,
     "metadata": {},
     "output_type": "execute_result"
    }
   ],
   "source": [
    "zero_torch = torch.zeros([4, 3])\n",
    "zerolike_torch = torch.zeros_like(matrix2torch)\n",
    "one_torch = torch.ones([4, 3])\n",
    "full_torch = torch.full([4, 3], 10.)\n",
    "zero_torch, zerolike_torch, one_torch, full_torch"
   ]
  },
  {
   "cell_type": "code",
   "execution_count": 36,
   "id": "bfe464a0",
   "metadata": {},
   "outputs": [
    {
     "data": {
      "text/plain": [
       "(tensor([1, 3, 5]), tensor([ 0.0000,  2.5000,  5.0000,  7.5000, 10.0000]))"
      ]
     },
     "execution_count": 36,
     "metadata": {},
     "output_type": "execute_result"
    }
   ],
   "source": [
    "arrange_torch = torch.arange(start=1, end=6, step=2)\n",
    "linspace_torch = torch.linspace(start=0, end=10, steps=5)\n",
    "arrange_torch, linspace_torch"
   ]
  },
  {
   "cell_type": "code",
   "execution_count": 37,
   "id": "33c0ab33",
   "metadata": {},
   "outputs": [
    {
     "data": {
      "text/plain": [
       "torch.Size([3, 2, 5])"
      ]
     },
     "execution_count": 37,
     "metadata": {},
     "output_type": "execute_result"
    }
   ],
   "source": [
    "ndim_3_torch = torch.tensor([[[1, 2, 3, 4, 5],\n",
    "                               [6, 7, 8, 9, 10]],\n",
    "                               [[11, 12, 13, 14, 15],\n",
    "                               [16, 17, 18, 19, 20]],\n",
    "                               [[21, 22, 23, 24, 25],\n",
    "                               [26, 27, 28, 29, 30]]])\n",
    "ndim_3_torch.shape"
   ]
  },
  {
   "cell_type": "code",
   "execution_count": 38,
   "id": "2f41e13b",
   "metadata": {},
   "outputs": [
    {
     "data": {
      "text/plain": [
       "(tensor([[[ 1,  2,  3,  4,  5],\n",
       "          [ 6,  7,  8,  9, 10],\n",
       "          [11, 12, 13, 14, 15]],\n",
       " \n",
       "         [[16, 17, 18, 19, 20],\n",
       "          [21, 22, 23, 24, 25],\n",
       "          [26, 27, 28, 29, 30]]]),\n",
       " torch.Size([2, 3, 5]))"
      ]
     },
     "execution_count": 38,
     "metadata": {},
     "output_type": "execute_result"
    }
   ],
   "source": [
    "reshape_torch = ndim_3_torch.reshape([2, 3, 5])\n",
    "reshape_torch, reshape_torch.shape"
   ]
  },
  {
   "cell_type": "code",
   "execution_count": 39,
   "id": "3e35badc",
   "metadata": {},
   "outputs": [
    {
     "data": {
      "text/plain": [
       "(tensor([[ 1,  2],\n",
       "         [ 3,  4],\n",
       "         [ 5,  6],\n",
       "         [ 7,  8],\n",
       "         [ 9, 10],\n",
       "         [11, 12],\n",
       "         [13, 14],\n",
       "         [15, 16],\n",
       "         [17, 18],\n",
       "         [19, 20],\n",
       "         [21, 22],\n",
       "         [23, 24],\n",
       "         [25, 26],\n",
       "         [27, 28],\n",
       "         [29, 30]]),\n",
       " torch.Size([15, 2]))"
      ]
     },
     "execution_count": 39,
     "metadata": {},
     "output_type": "execute_result"
    }
   ],
   "source": [
    "reshape_torch = ndim_3_torch.reshape([-1, 2])\n",
    "reshape_torch, reshape_torch.shape"
   ]
  },
  {
   "cell_type": "code",
   "execution_count": 40,
   "id": "81bbba40",
   "metadata": {},
   "outputs": [
    {
     "data": {
      "text/plain": [
       "(tensor([[[ 1,  2],\n",
       "          [ 3,  4],\n",
       "          [ 5,  6],\n",
       "          [ 7,  8],\n",
       "          [ 9, 10]],\n",
       " \n",
       "         [[11, 12],\n",
       "          [13, 14],\n",
       "          [15, 16],\n",
       "          [17, 18],\n",
       "          [19, 20]],\n",
       " \n",
       "         [[21, 22],\n",
       "          [23, 24],\n",
       "          [25, 26],\n",
       "          [27, 28],\n",
       "          [29, 30]]]),\n",
       " torch.Size([3, 5, 2]))"
      ]
     },
     "execution_count": 40,
     "metadata": {},
     "output_type": "execute_result"
    }
   ],
   "source": [
    "reshape_torch = ndim_3_torch.reshape([-1, 5, 2])\n",
    "reshape_torch, reshape_torch.shape"
   ]
  },
  {
   "cell_type": "code",
   "execution_count": 41,
   "id": "3825e74e",
   "metadata": {},
   "outputs": [
    {
     "data": {
      "text/plain": [
       "(tensor([[[[ 1,  2,  3,  4,  5],\n",
       "           [ 6,  7,  8,  9, 10]],\n",
       " \n",
       "          [[11, 12, 13, 14, 15],\n",
       "           [16, 17, 18, 19, 20]],\n",
       " \n",
       "          [[21, 22, 23, 24, 25],\n",
       "           [26, 27, 28, 29, 30]]]]),\n",
       " torch.Size([1, 3, 2, 5]))"
      ]
     },
     "execution_count": 41,
     "metadata": {},
     "output_type": "execute_result"
    }
   ],
   "source": [
    "unsqueeze_torch = torch.unsqueeze(ndim_3_torch, axis=0)\n",
    "unsqueeze_torch, unsqueeze_torch.shape"
   ]
  },
  {
   "cell_type": "code",
   "execution_count": 42,
   "id": "5762fe71",
   "metadata": {},
   "outputs": [
    {
     "data": {
      "text/plain": [
       "(torch.int64, torch.float32)"
      ]
     },
     "execution_count": 42,
     "metadata": {},
     "output_type": "execute_result"
    }
   ],
   "source": [
    "torch.tensor(1).dtype, torch.tensor(1.).dtype"
   ]
  },
  {
   "cell_type": "code",
   "execution_count": 43,
   "id": "5e37bb90",
   "metadata": {},
   "outputs": [
    {
     "data": {
      "text/plain": [
       "(torch.float32, torch.int64)"
      ]
     },
     "execution_count": 43,
     "metadata": {},
     "output_type": "execute_result"
    }
   ],
   "source": [
    "float32_torch = torch.tensor(1.)\n",
    "int64_torch = torch._cast_Long(float32_torch)\n",
    "float32_torch.dtype, int64_torch.dtype"
   ]
  },
  {
   "cell_type": "code",
   "execution_count": 44,
   "id": "00fb786d",
   "metadata": {},
   "outputs": [
    {
     "data": {
      "text/plain": [
       "(tensor(1.), tensor(1., device='cuda:0'))"
      ]
     },
     "execution_count": 44,
     "metadata": {},
     "output_type": "execute_result"
    }
   ],
   "source": [
    "cpu_tensor = torch.tensor(1., device='cpu')\n",
    "gpu_tensor = torch.tensor(1., device='cuda:0')\n",
    "cpu_tensor, gpu_tensor"
   ]
  },
  {
   "cell_type": "code",
   "execution_count": 45,
   "id": "e34d1303",
   "metadata": {},
   "outputs": [
    {
     "data": {
      "text/plain": [
       "tensor(1., device='cuda:0')"
      ]
     },
     "execution_count": 45,
     "metadata": {},
     "output_type": "execute_result"
    }
   ],
   "source": [
    "cpu_tensor = cpu_tensor.to('cuda:0')\n",
    "cpu_tensor"
   ]
  },
  {
   "cell_type": "code",
   "execution_count": 46,
   "id": "8a71b2f7",
   "metadata": {},
   "outputs": [
    {
     "data": {
      "text/plain": [
       "array([1., 2.], dtype=float32)"
      ]
     },
     "execution_count": 46,
     "metadata": {},
     "output_type": "execute_result"
    }
   ],
   "source": [
    "np_torch = torch.tensor([1.0, 2.0])\n",
    "np_torch.numpy()"
   ]
  },
  {
   "cell_type": "code",
   "execution_count": 47,
   "id": "5f381a72",
   "metadata": {},
   "outputs": [
    {
     "data": {
      "text/plain": [
       "(tensor(1.),\n",
       " tensor(8.),\n",
       " tensor([1., 3., 5., 7.]),\n",
       " tensor([1., 2., 3., 4., 5., 6., 7.]),\n",
       " tensor([8., 7., 6., 5., 4., 3., 2., 1.]))"
      ]
     },
     "execution_count": 47,
     "metadata": {},
     "output_type": "execute_result"
    }
   ],
   "source": [
    "split_torch = torch.tensor([1., 2., 3., 4., 5., 6., 7., 8.])\n",
    "split_torch[0], split_torch[-1], split_torch[::2], split_torch[:-1], split_torch.__reversed__()"
   ]
  },
  {
   "cell_type": "code",
   "execution_count": 48,
   "id": "72620b43",
   "metadata": {},
   "outputs": [
    {
     "data": {
      "text/plain": [
       "(torch.Size([2, 2, 8]),\n",
       " tensor([[1., 2., 3., 4., 5., 6., 7., 8.],\n",
       "         [1., 2., 3., 4., 5., 6., 7., 8.]]))"
      ]
     },
     "execution_count": 48,
     "metadata": {},
     "output_type": "execute_result"
    }
   ],
   "source": [
    "split_torch = torch.tensor([[[1., 2., 3., 4., 5., 6., 7., 8.], [1., 2., 3., 4., 5., 6., 7., 8.]], [[1., 2., 3., 4., 5., 6., 7., 8.], [1., 2., 3., 4., 5., 6., 7., 8.]]])\n",
    "split_torch.shape, split_torch[1, :]"
   ]
  },
  {
   "cell_type": "code",
   "execution_count": 49,
   "id": "6ab05e22",
   "metadata": {},
   "outputs": [
    {
     "data": {
      "text/plain": [
       "(tensor([[ 4.4000,  8.8000],\n",
       "         [11.0000, 13.2000]]),\n",
       " tensor([[ 4.4000,  8.8000],\n",
       "         [11.0000, 13.2000]]),\n",
       " tensor([[ 4.4000,  8.8000],\n",
       "         [11.0000, 13.2000]]))"
      ]
     },
     "execution_count": 49,
     "metadata": {},
     "output_type": "execute_result"
    }
   ],
   "source": [
    "x = torch.tensor([[-1.1, 2.2], [3.3, 4.4]])\n",
    "y = torch.tensor([[5.5, 6.6], [7.7, 8.8]])\n",
    "torch.add(x, y), x.add(y), x + y"
   ]
  },
  {
   "cell_type": "code",
   "execution_count": 50,
   "id": "cb16565f",
   "metadata": {},
   "outputs": [
    {
     "data": {
      "text/plain": [
       "(tensor([[1.1000, 2.2000],\n",
       "         [3.3000, 4.4000]]),\n",
       " tensor([[-1.,  3.],\n",
       "         [ 4.,  5.]]),\n",
       " tensor([[-2.,  2.],\n",
       "         [ 3.,  4.]]),\n",
       " tensor([[-1.,  2.],\n",
       "         [ 3.,  4.]]),\n",
       " tensor([[ 0.3329,  9.0250],\n",
       "         [27.1126, 81.4509]]),\n",
       " tensor([[   nan, 0.7885],\n",
       "         [1.1939, 1.4816]]),\n",
       " tensor([[-0.9091,  0.4545],\n",
       "         [ 0.3030,  0.2273]]),\n",
       " tensor([[ 1.2100,  4.8400],\n",
       "         [10.8900, 19.3600]]),\n",
       " tensor([[   nan, 1.4832],\n",
       "         [1.8166, 2.0976]]))"
      ]
     },
     "execution_count": 50,
     "metadata": {},
     "output_type": "execute_result"
    }
   ],
   "source": [
    "x.abs(), x.ceil(), x.floor(), x.round(), x.exp(), x.log(), x.reciprocal(), x.square(), x.sqrt()\n"
   ]
  },
  {
   "cell_type": "code",
   "execution_count": 51,
   "id": "98f518b3",
   "metadata": {},
   "outputs": [
    {
     "data": {
      "text/plain": [
       "(tensor([[5.5000, 6.6000],\n",
       "         [7.7000, 8.8000]]),\n",
       " tensor([[-1.1000,  2.2000],\n",
       "         [ 3.3000,  4.4000]]),\n",
       " tensor([[4.4000, 2.2000],\n",
       "         [3.3000, 4.4000]]))"
      ]
     },
     "execution_count": 51,
     "metadata": {},
     "output_type": "execute_result"
    }
   ],
   "source": [
    "y, x, x % y"
   ]
  },
  {
   "cell_type": "code",
   "execution_count": 52,
   "id": "45f10463",
   "metadata": {},
   "outputs": [
    {
     "data": {
      "text/plain": [
       "(tensor([[-0.8912,  0.8085],\n",
       "         [-0.1577, -0.9516]]),\n",
       " tensor([[ 0.4536, -0.5885],\n",
       "         [-0.9875, -0.3073]]),\n",
       " tensor([[-6.0500, 14.5200],\n",
       "         [25.4100, 38.7200]]),\n",
       " tensor([[-1.1921e-07,  2.2000e+00],\n",
       "         [ 1.1000e+00,  0.0000e+00]]),\n",
       " tensor(4.4000),\n",
       " tensor(-1.1000),\n",
       " tensor(-35.1384),\n",
       " tensor(8.8000))"
      ]
     },
     "execution_count": 52,
     "metadata": {},
     "output_type": "execute_result"
    }
   ],
   "source": [
    "x.sin(), x.cos(), x * y, y % x, x.max(), x.min(), x.prod(), x.sum()"
   ]
  },
  {
   "cell_type": "code",
   "execution_count": 53,
   "id": "1dfab821",
   "metadata": {},
   "outputs": [
    {
     "data": {
      "text/plain": [
       "(tensor([], size=(0, 0, 0), dtype=torch.bool), False)"
      ]
     },
     "execution_count": 53,
     "metadata": {},
     "output_type": "execute_result"
    }
   ],
   "source": [
    "(1/torch.zeros([0, 0, 0])).isfinite(), x.allclose(y)"
   ]
  },
  {
   "cell_type": "code",
   "execution_count": 54,
   "id": "3e33f394",
   "metadata": {},
   "outputs": [
    {
     "data": {
      "text/plain": [
       "tensor([[[[2., 2., 2., 2., 2.],\n",
       "          [2., 2., 2., 2., 2.],\n",
       "          [2., 2., 2., 2., 2.],\n",
       "          [2., 2., 2., 2., 2.]],\n",
       "\n",
       "         [[2., 2., 2., 2., 2.],\n",
       "          [2., 2., 2., 2., 2.],\n",
       "          [2., 2., 2., 2., 2.],\n",
       "          [2., 2., 2., 2., 2.]],\n",
       "\n",
       "         [[2., 2., 2., 2., 2.],\n",
       "          [2., 2., 2., 2., 2.],\n",
       "          [2., 2., 2., 2., 2.],\n",
       "          [2., 2., 2., 2., 2.]]],\n",
       "\n",
       "\n",
       "        [[[2., 2., 2., 2., 2.],\n",
       "          [2., 2., 2., 2., 2.],\n",
       "          [2., 2., 2., 2., 2.],\n",
       "          [2., 2., 2., 2., 2.]],\n",
       "\n",
       "         [[2., 2., 2., 2., 2.],\n",
       "          [2., 2., 2., 2., 2.],\n",
       "          [2., 2., 2., 2., 2.],\n",
       "          [2., 2., 2., 2., 2.]],\n",
       "\n",
       "         [[2., 2., 2., 2., 2.],\n",
       "          [2., 2., 2., 2., 2.],\n",
       "          [2., 2., 2., 2., 2.],\n",
       "          [2., 2., 2., 2., 2.]]]])"
      ]
     },
     "execution_count": 54,
     "metadata": {},
     "output_type": "execute_result"
    }
   ],
   "source": [
    "x = torch.ones([2, 3, 1, 5])\n",
    "y = torch.ones([3, 4, 1])\n",
    "z = x + y\n",
    "z # broadcast"
   ]
  },
  {
   "cell_type": "code",
   "execution_count": 55,
   "id": "7b01baad",
   "metadata": {},
   "outputs": [
    {
     "data": {
      "text/plain": [
       "(tensor([[0.2629, 1.5925, 0.1899],\n",
       "         [0.8201, 2.1017, 2.5966]]),\n",
       " tensor([[ 0.2285, -0.6448],\n",
       "         [ 0.2653, -0.6893],\n",
       "         [-1.0389, -0.4237]]),\n",
       " tensor([[0.2629, 0.8201],\n",
       "         [1.5925, 2.1017],\n",
       "         [0.1899, 2.5966]]),\n",
       " tensor([[0.2629, 0.8201],\n",
       "         [1.5925, 2.1017],\n",
       "         [0.1899, 2.5966]]),\n",
       " tensor(3.8043),\n",
       " tensor([[ 0.2854, -1.3477],\n",
       "         [-1.9524, -3.0776]]))"
      ]
     },
     "execution_count": 55,
     "metadata": {},
     "output_type": "execute_result"
    }
   ],
   "source": [
    "x = torch.randn([2, 3])\n",
    "y = torch.randn([3, 2])\n",
    "x, y, x.t(), x.transpose(1, 0), x.norm(), x.matmul(y)"
   ]
  },
  {
   "cell_type": "markdown",
   "id": "c48a5007",
   "metadata": {},
   "source": [
    "## 1.3 算子"
   ]
  },
  {
   "cell_type": "code",
   "execution_count": 56,
   "id": "17231baa",
   "metadata": {},
   "outputs": [],
   "source": [
    "import math\n",
    "\n",
    "class Op(object):\n",
    "    def __init__(self):\n",
    "        pass\n",
    "\n",
    "    def __call__(self, inputs):\n",
    "        return self.forward(inputs)\n",
    "    \n",
    "    def forward(self, inputs):\n",
    "        raise NotImplementedError\n",
    "    \n",
    "    def backward(self, outputs_grads):\n",
    "        raise NotImplementedError\n",
    "\n",
    "class add(Op):\n",
    "    def __init__(self):\n",
    "        super(add, self).__init__()\n",
    "    \n",
    "    def __call__(self, x, y):\n",
    "        return self.forward(x, y)\n",
    "    \n",
    "    def forward(self, x, y):\n",
    "        self.x = x\n",
    "        self.y = y\n",
    "        outputs = x + y\n",
    "        return outputs\n",
    "    \n",
    "    def backward(self, grads):\n",
    "        grads_x = grads * 1\n",
    "        grads_y = grads * 1\n",
    "        return grads_x, grads_y\n",
    "\n",
    "class multiply(Op):\n",
    "    def __init__(self):\n",
    "        super(multiply, self).__init__()\n",
    "\n",
    "    def __call__(self, x, y):\n",
    "        return self.forward(x, y)\n",
    "    \n",
    "    def forward(self, x, y):\n",
    "        self.x = x\n",
    "        self.y = y\n",
    "        return x * y\n",
    "    \n",
    "    def backward(self, grads):\n",
    "        grads_x = grads * self.y\n",
    "        grads_y = grads * self.x\n",
    "        return grads_x, grads_y\n",
    "    \n",
    "class exp(Op):\n",
    "    def __init__(self):\n",
    "        super(exp, self).__init__()\n",
    "\n",
    "    def __call__(self, x):\n",
    "        return self.forward(x)\n",
    "    \n",
    "    def forward(self, x):\n",
    "        self.x = x\n",
    "        return math.exp(x)\n",
    "    \n",
    "    def backward(self, grads):\n",
    "        grads_x = grads * math.exp(self.x)\n",
    "        return grads_x"
   ]
  },
  {
   "cell_type": "code",
   "execution_count": 57,
   "id": "6591b7ef",
   "metadata": {},
   "outputs": [
    {
     "data": {
      "text/plain": [
       "22026.465794806718"
      ]
     },
     "execution_count": 57,
     "metadata": {},
     "output_type": "execute_result"
    }
   ],
   "source": [
    "a, b, c, d = 2, 3, 2, 2\n",
    "multiply_op = multiply()\n",
    "add_op = add()\n",
    "exp_op = exp()\n",
    "\n",
    "g = exp_op(add_op(multiply_op(a, b), multiply_op(c, d)))\n",
    "g"
   ]
  },
  {
   "cell_type": "code",
   "execution_count": 58,
   "id": "17d76d8f",
   "metadata": {},
   "outputs": [
    {
     "name": "stderr",
     "output_type": "stream",
     "text": [
      "C:\\Users\\huang\\AppData\\Local\\Temp\\ipykernel_19208\\3477281545.py:5: UserWarning: The .grad attribute of a Tensor that is not a leaf Tensor is being accessed. Its .grad attribute won't be populated during autograd.backward(). If you indeed want the .grad field to be populated for a non-leaf Tensor, use .retain_grad() on the non-leaf Tensor. If you access the non-leaf Tensor by mistake, make sure you access the leaf Tensor instead. See github.com/pytorch/pytorch/pull/30531 for more informations. (Triggered internally at C:\\actions-runner\\_work\\pytorch\\pytorch\\builder\\windows\\pytorch\\build\\aten\\src\\ATen/core/TensorBody.h:494.)\n",
      "  a.grad, b.grad, c.grad\n"
     ]
    },
    {
     "data": {
      "text/plain": [
       "(tensor(3.), tensor(2.), None)"
      ]
     },
     "execution_count": 58,
     "metadata": {},
     "output_type": "execute_result"
    }
   ],
   "source": [
    "a = torch.tensor(2.0, requires_grad=True)\n",
    "b = torch.tensor(3.0, requires_grad=True)\n",
    "c = a * b\n",
    "c.backward()\n",
    "a.grad, b.grad, c.grad"
   ]
  }
 ],
 "metadata": {
  "kernelspec": {
   "display_name": "Python 3",
   "language": "python",
   "name": "python3"
  },
  "language_info": {
   "codemirror_mode": {
    "name": "ipython",
    "version": 3
   },
   "file_extension": ".py",
   "mimetype": "text/x-python",
   "name": "python",
   "nbconvert_exporter": "python",
   "pygments_lexer": "ipython3",
   "version": "3.8.17"
  }
 },
 "nbformat": 4,
 "nbformat_minor": 5
}
